{
 "cells": [
  {
   "cell_type": "markdown",
   "metadata": {},
   "source": [
    "USE CASE - DAY 8: 15.08.2018\n",
    "\n",
    "### Objective - To use kNN as a kind of a recommendation/prediction for movies.\n",
    "\n",
    "Datasets\n",
    "As discussed in class, you will build your model using the training data. To test your model, you will calculate predictions for each entry in the test set (a userID/movieID pair), and since you know the real rating, you can compute the difference between the two, and determine how well your method performs, as an additional exercise. In this exercise we only consider if a user has seen or not seen -- irrespective of the rating.\n",
    "In other words if a userId, movieId, rating line exists, then the user has seen that movie.\n",
    "\n",
    "\n",
    "Description\n",
    "Consider the problem of recommending movies to users. We have M Users and N Movies. Now, we want to predict whether a given test user  x  will watch movie  y.\n",
    "User  x  has seen and not seen few movies in the past. We will use  x 's movie watching history as a feature for our recommendation system.\n",
    "We will use KNN to find the K nearest neighbour users (users with similar taste) to  x , and make predictions based on their entries for movie  y.\n",
    "A user either had seen the movie (1) or not seen the movie (0). We can represent this as a matrix of size M×N. (M rows and N columns). We have actually used a dictionary with the keys userId and movieId to represent this matrix.\n",
    "Each element of the matrix is either zero or one. If (u, m) entry in this matrix is 1, then the  uth  user has seen the movie  m .\n",
    "\n",
    "Training set\n",
    "M×N binary matrix indicating seen/not-seen.\n",
    "\n",
    "Test set:\n",
    "L test cases with  (x,y)  pairs.  x  is N-dimensional binary vector with missing  yth  entry - which we want to predict.\n",
    "Now, we want to predict whether a given test user x will watch movie y.\n",
    "User x has seen and not seen few movies in the past. We will use x's movie watching history as feature for our recommendation system. \n",
    "\n",
    "\n",
    "\n",
    "Exercise 1 :: Write a function to compute euclidean distance between two users for all entries except the missing  yth  entry.\n",
    "We will use KNN to find the K nearest neighbour users (users with similar taste) to x, and make predictions based on their entries for movie y.\n",
    "\n",
    "\n",
    "Exercise 2 :: Change the distance function to compute Euclidean, and see if the prediction changes. Remember to modify the kNN function to pick the smallest distances: do not reverse()!\n",
    "\n",
    "Exercise 3 :: Change the distance function to compute Manhattan, and see if the prediction changes. Remember to modify the kNN function to pick the smallest distances: do not reverse()!\n",
    "\n",
    "Exercise 4 : Compare the accuracy with different value of K."
   ]
  },
  {
   "cell_type": "code",
   "execution_count": 1,
   "metadata": {},
   "outputs": [],
   "source": [
    "import pandas as pd\n",
    "import numpy as np\n",
    "import matplotlib.pyplot as plt\n",
    "from scipy.spatial import distance\n",
    "from sklearn.metrics.pairwise import pairwise_distances\n",
    "from sklearn.model_selection import train_test_split\n",
    "from sklearn.neighbors import KNeighborsClassifier\n",
    "from sklearn.metrics import classification_report\n",
    "\n",
    "df=pd.read_excel('Movie_Train.xlsx')"
   ]
  },
  {
   "cell_type": "markdown",
   "metadata": {},
   "source": [
    "### Data Exploration"
   ]
  },
  {
   "cell_type": "code",
   "execution_count": 2,
   "metadata": {},
   "outputs": [
    {
     "data": {
      "text/plain": [
       "userId     [[0.0, 1.0, 2.0, 3.0, 4.0, 5.0, 6.0, 7.0, 8.0,...\n",
       "movieId    [[0.0, 1.0, 2.0, 3.0, 5.0, 6.0, 7.0, 8.0, 10.0...\n",
       "rating     [[2.5, 3.0, 2.0, 3.5, 1.0, 4.0, 5.0, 4.5, 1.5,...\n",
       "dtype: object"
      ]
     },
     "execution_count": 2,
     "metadata": {},
     "output_type": "execute_result"
    }
   ],
   "source": [
    "df.apply(lambda x:[x.unique()])"
   ]
  },
  {
   "cell_type": "code",
   "execution_count": 3,
   "metadata": {},
   "outputs": [
    {
     "name": "stdout",
     "output_type": "stream",
     "text": [
      "<class 'pandas.core.frame.DataFrame'>\n",
      "RangeIndex: 80045 entries, 0 to 80044\n",
      "Data columns (total 3 columns):\n",
      "userId     80045 non-null int64\n",
      "movieId    80045 non-null int64\n",
      "rating     80045 non-null float64\n",
      "dtypes: float64(1), int64(2)\n",
      "memory usage: 1.8 MB\n"
     ]
    }
   ],
   "source": [
    "df.info()"
   ]
  },
  {
   "cell_type": "code",
   "execution_count": 4,
   "metadata": {},
   "outputs": [
    {
     "data": {
      "text/html": [
       "<div>\n",
       "<style scoped>\n",
       "    .dataframe tbody tr th:only-of-type {\n",
       "        vertical-align: middle;\n",
       "    }\n",
       "\n",
       "    .dataframe tbody tr th {\n",
       "        vertical-align: top;\n",
       "    }\n",
       "\n",
       "    .dataframe thead th {\n",
       "        text-align: right;\n",
       "    }\n",
       "</style>\n",
       "<table border=\"1\" class=\"dataframe\">\n",
       "  <thead>\n",
       "    <tr style=\"text-align: right;\">\n",
       "      <th></th>\n",
       "      <th>userId</th>\n",
       "      <th>movieId</th>\n",
       "      <th>rating</th>\n",
       "    </tr>\n",
       "  </thead>\n",
       "  <tbody>\n",
       "    <tr>\n",
       "      <th>count</th>\n",
       "      <td>80045.000000</td>\n",
       "      <td>80045.000000</td>\n",
       "      <td>80045.000000</td>\n",
       "    </tr>\n",
       "    <tr>\n",
       "      <th>mean</th>\n",
       "      <td>345.401574</td>\n",
       "      <td>1654.711850</td>\n",
       "      <td>3.544594</td>\n",
       "    </tr>\n",
       "    <tr>\n",
       "      <th>std</th>\n",
       "      <td>195.180637</td>\n",
       "      <td>1887.186635</td>\n",
       "      <td>1.058349</td>\n",
       "    </tr>\n",
       "    <tr>\n",
       "      <th>min</th>\n",
       "      <td>0.000000</td>\n",
       "      <td>0.000000</td>\n",
       "      <td>0.500000</td>\n",
       "    </tr>\n",
       "    <tr>\n",
       "      <th>25%</th>\n",
       "      <td>179.000000</td>\n",
       "      <td>327.000000</td>\n",
       "      <td>3.000000</td>\n",
       "    </tr>\n",
       "    <tr>\n",
       "      <th>50%</th>\n",
       "      <td>363.000000</td>\n",
       "      <td>870.000000</td>\n",
       "      <td>4.000000</td>\n",
       "    </tr>\n",
       "    <tr>\n",
       "      <th>75%</th>\n",
       "      <td>518.000000</td>\n",
       "      <td>2337.000000</td>\n",
       "      <td>4.000000</td>\n",
       "    </tr>\n",
       "    <tr>\n",
       "      <th>max</th>\n",
       "      <td>670.000000</td>\n",
       "      <td>9065.000000</td>\n",
       "      <td>5.000000</td>\n",
       "    </tr>\n",
       "  </tbody>\n",
       "</table>\n",
       "</div>"
      ],
      "text/plain": [
       "             userId       movieId        rating\n",
       "count  80045.000000  80045.000000  80045.000000\n",
       "mean     345.401574   1654.711850      3.544594\n",
       "std      195.180637   1887.186635      1.058349\n",
       "min        0.000000      0.000000      0.500000\n",
       "25%      179.000000    327.000000      3.000000\n",
       "50%      363.000000    870.000000      4.000000\n",
       "75%      518.000000   2337.000000      4.000000\n",
       "max      670.000000   9065.000000      5.000000"
      ]
     },
     "execution_count": 4,
     "metadata": {},
     "output_type": "execute_result"
    }
   ],
   "source": [
    "df.describe()"
   ]
  },
  {
   "cell_type": "markdown",
   "metadata": {},
   "source": [
    "## Exploratory Data Analysis"
   ]
  },
  {
   "cell_type": "code",
   "execution_count": 5,
   "metadata": {},
   "outputs": [
    {
     "data": {
      "text/plain": [
       "<matplotlib.axes._subplots.AxesSubplot at 0x7fa74c2ec8d0>"
      ]
     },
     "execution_count": 5,
     "metadata": {},
     "output_type": "execute_result"
    },
    {
     "data": {
      "image/png": "[encoded data removed]",
      "text/plain": [
       "<matplotlib.figure.Figure at 0x7fa74c2ec2b0>"
      ]
     },
     "metadata": {},
     "output_type": "display_data"
    }
   ],
   "source": [
    "pd.pivot_table(data=df,index='userId',values='rating',aggfunc='count',fill_value=0).plot()"
   ]
  },
  {
   "cell_type": "code",
   "execution_count": 6,
   "metadata": {},
   "outputs": [
    {
     "data": {
      "text/plain": [
       "<matplotlib.axes._subplots.AxesSubplot at 0x7fa74c546160>"
      ]
     },
     "execution_count": 6,
     "metadata": {},
     "output_type": "execute_result"
    },
    {
     "data": {
      "image/png": "[encoded data removed]",
      "text/plain": [
       "<matplotlib.figure.Figure at 0x7fa74c706278>"
      ]
     },
     "metadata": {},
     "output_type": "display_data"
    }
   ],
   "source": [
    "pd.pivot_table(data=df,index='movieId',values='rating',aggfunc='count',fill_value=0).plot()"
   ]
  },
  {
   "cell_type": "code",
   "execution_count": 7,
   "metadata": {},
   "outputs": [
    {
     "data": {
      "text/plain": [
       "<matplotlib.axes._subplots.AxesSubplot at 0x7fa74ce6add8>"
      ]
     },
     "execution_count": 7,
     "metadata": {},
     "output_type": "execute_result"
    },
    {
     "data": {
      "image/png": "[encoded data removed]",
      "text/plain": [
       "<matplotlib.figure.Figure at 0x7fa74c80c748>"
      ]
     },
     "metadata": {},
     "output_type": "display_data"
    }
   ],
   "source": [
    "pd.pivot_table(data=df,index='userId',columns='rating',values='movieId',aggfunc='count',fill_value=0).plot()"
   ]
  },
  {
   "cell_type": "code",
   "execution_count": 8,
   "metadata": {},
   "outputs": [
    {
     "data": {
      "text/plain": [
       "<matplotlib.axes._subplots.AxesSubplot at 0x7fa74c7fa0b8>"
      ]
     },
     "execution_count": 8,
     "metadata": {},
     "output_type": "execute_result"
    },
    {
     "data": {
      "image/png": "[encoded data removed]",
      "text/plain": [
       "<matplotlib.figure.Figure at 0x7fa74d043780>"
      ]
     },
     "metadata": {},
     "output_type": "display_data"
    }
   ],
   "source": [
    "pd.pivot_table(data=df,index='movieId',columns='rating',values='userId',aggfunc='count',fill_value=0).plot()"
   ]
  },
  {
   "cell_type": "code",
   "execution_count": 9,
   "metadata": {},
   "outputs": [
    {
     "data": {
      "text/plain": [
       "array([[<matplotlib.axes._subplots.AxesSubplot object at 0x7fa74d6c80b8>]],\n",
       "      dtype=object)"
      ]
     },
     "execution_count": 9,
     "metadata": {},
     "output_type": "execute_result"
    },
    {
     "data": {
      "image/png": "[encoded data removed]",
      "text/plain": [
       "<matplotlib.figure.Figure at 0x7fa74caa4940>"
      ]
     },
     "metadata": {},
     "output_type": "display_data"
    }
   ],
   "source": [
    "pd.pivot_table(data=df,index='userId',values='rating',aggfunc='mean',fill_value=0).hist()"
   ]
  },
  {
   "cell_type": "code",
   "execution_count": 10,
   "metadata": {},
   "outputs": [
    {
     "data": {
      "text/plain": [
       "array([[<matplotlib.axes._subplots.AxesSubplot object at 0x7fa74c357c18>]],\n",
       "      dtype=object)"
      ]
     },
     "execution_count": 10,
     "metadata": {},
     "output_type": "execute_result"
    },
    {
     "data": {
      "image/png": "[encoded data removed]",
      "text/plain": [
       "<matplotlib.figure.Figure at 0x7fa74c14da20>"
      ]
     },
     "metadata": {},
     "output_type": "display_data"
    }
   ],
   "source": [
    "pd.pivot_table(data=df,index='movieId',values='rating',aggfunc='mean',fill_value=0).hist()"
   ]
  },
  {
   "cell_type": "markdown",
   "metadata": {},
   "source": [
    "## Data Manipulation"
   ]
  },
  {
   "cell_type": "code",
   "execution_count": 11,
   "metadata": {},
   "outputs": [],
   "source": [
    "df=pd.read_excel('Movie_Train.xlsx')\n",
    "df[\"rating\"] = df[\"rating\"].astype('category')"
   ]
  },
  {
   "cell_type": "code",
   "execution_count": 12,
   "metadata": {},
   "outputs": [],
   "source": [
    "df_temp=pd.pivot_table(data=df,index='userId',values='rating',columns='movieId',aggfunc='sum',fill_value=0)\n",
    "df_temp.reset_index(inplace=True)\n",
    "\n",
    "df_new=pd.melt(df_temp, id_vars='userId',value_vars=df_temp.columns[1:],value_name='rating')\n",
    "df_new['watched'] = np.where(df_new['rating']>0, 1, 0)"
   ]
  },
  {
   "cell_type": "code",
   "execution_count": 13,
   "metadata": {},
   "outputs": [],
   "source": [
    "df1=df_new[df_new['watched']==1]\n",
    "df2=df_new[df_new['watched']==0].sample(len(df1))\n",
    "df_test=pd.concat([df1, df2], ignore_index=True)"
   ]
  },
  {
   "cell_type": "code",
   "execution_count": 14,
   "metadata": {},
   "outputs": [
    {
     "data": {
      "text/plain": [
       "(160090, 4)"
      ]
     },
     "execution_count": 14,
     "metadata": {},
     "output_type": "execute_result"
    }
   ],
   "source": [
    "df_test.shape"
   ]
  },
  {
   "cell_type": "markdown",
   "metadata": {},
   "source": [
    "## Model Preparation"
   ]
  },
  {
   "cell_type": "code",
   "execution_count": 15,
   "metadata": {},
   "outputs": [],
   "source": [
    "x=df_test[['userId','movieId','rating']]\n",
    "y=df_test['watched']\n",
    "x_train, x_test, y_train, y_test = train_test_split(x, y, test_size=0.33, random_state=42)"
   ]
  },
  {
   "cell_type": "code",
   "execution_count": 16,
   "metadata": {},
   "outputs": [
    {
     "name": "stdout",
     "output_type": "stream",
     "text": [
      "             precision    recall  f1-score   support\n",
      "\n",
      "          0       0.73      0.81      0.77     23871\n",
      "          1       0.83      0.75      0.79     28959\n",
      "\n",
      "avg / total       0.78      0.78      0.78     52830\n",
      "\n",
      "Accuracy of the model : 0.81\n"
     ]
    }
   ],
   "source": [
    "neigh = KNeighborsClassifier(n_neighbors=15)\n",
    "neigh.fit(x_train, y_train)\n",
    "y_pred=neigh.predict(x_test)\n",
    "print(classification_report(y_pred, y_test))\n",
    "print(\"Accuracy of the model :\",round(neigh.score(x_train,y_train),2))"
   ]
  },
  {
   "cell_type": "markdown",
   "metadata": {},
   "source": [
    "## Testing Model with Test Data"
   ]
  },
  {
   "cell_type": "code",
   "execution_count": 17,
   "metadata": {},
   "outputs": [
    {
     "name": "stdout",
     "output_type": "stream",
     "text": [
      "             precision    recall  f1-score   support\n",
      "\n",
      "          0       0.00      0.00      0.00      3297\n",
      "          1       0.83      1.00      0.91     15876\n",
      "\n",
      "avg / total       0.69      0.83      0.75     19173\n",
      "\n"
     ]
    },
    {
     "name": "stderr",
     "output_type": "stream",
     "text": [
      "/opt/usr/anaconda3/lib/python3.6/site-packages/sklearn/metrics/classification.py:1135: UndefinedMetricWarning: Precision and F-score are ill-defined and being set to 0.0 in labels with no predicted samples.\n",
      "  'precision', 'predicted', average, warn_for)\n"
     ]
    }
   ],
   "source": [
    "df=pd.read_excel('Movie_Test.xlsx')\n",
    "df['watched'] = np.where(df['rating']>0, 1, 0)\n",
    "df[\"rating\"] = df[\"rating\"].astype('category')\n",
    "x=df[['userId','movieId','rating']]\n",
    "y=df['watched']\n",
    "y_pred=neigh.predict(x)\n",
    "print(classification_report(y_pred, y))"
   ]
  },
  {
   "cell_type": "markdown",
   "metadata": {},
   "source": [
    "## Question-1"
   ]
  },
  {
   "cell_type": "markdown",
   "metadata": {},
   "source": [
    "Write a function to compute euclidean distance between two users for all entries except the missing yth entry. We will use KNN to find the K nearest neighbour users (users with similar taste) to x, and make predictions based on their entries for movie y."
   ]
  },
  {
   "cell_type": "code",
   "execution_count": 18,
   "metadata": {},
   "outputs": [
    {
     "name": "stdout",
     "output_type": "stream",
     "text": [
      "Enter User Id : 320\n",
      "Enter Number of Similar Users : 5\n",
      "\n",
      "\n",
      "UserId \t Distance \n",
      "320     0.000000\n",
      "580    13.665650\n",
      "394    13.674794\n",
      "331    13.811227\n",
      "402    13.964240\n",
      "Name: 320, dtype: float64\n"
     ]
    }
   ],
   "source": [
    "def getSimilarUsers(user,num,metric):\n",
    "    df_temp=pd.pivot_table(data=df,index='userId',values='rating',columns='movieId',aggfunc='sum',fill_value=0)\n",
    "    df_dist=pd.DataFrame(data=pairwise_distances(df_temp.values, metric=metric))\n",
    "    print(\"\\n\\nUserId \\t Distance \")\n",
    "    return df_dist[user].sort_values().head(num)\n",
    "\n",
    "user=int(input(\"Enter User Id : \"))\n",
    "num=int(input(\"Enter Number of Similar Users : \"))\n",
    "\n",
    "\n",
    "print(getSimilarUsers(user,num,'euclidean'))   \n",
    "    "
   ]
  },
  {
   "cell_type": "markdown",
   "metadata": {},
   "source": [
    "### Question-2\n",
    "Change the distance function to compute Euclidean, and see if the prediction changes. Remember to modify the kNN function to pick the smallest distances: do not reverse()!"
   ]
  },
  {
   "cell_type": "code",
   "execution_count": 19,
   "metadata": {},
   "outputs": [
    {
     "name": "stdout",
     "output_type": "stream",
     "text": [
      "Enter User Id : 454\n",
      "Enter Number of Similar Users : 5\n",
      "\n",
      "\n",
      "UserId \t Distance \n",
      "454    0.000000\n",
      "190    6.763875\n",
      "580    7.449832\n",
      "394    7.466592\n",
      "331    7.713624\n",
      "Name: 454, dtype: float64\n"
     ]
    }
   ],
   "source": [
    "user=int(input(\"Enter User Id : \"))\n",
    "num=int(input(\"Enter Number of Similar Users : \"))\n",
    "\n",
    "\n",
    "print(getSimilarUsers(user,num,'euclidean'))"
   ]
  },
  {
   "cell_type": "markdown",
   "metadata": {},
   "source": [
    "### Question-3"
   ]
  },
  {
   "cell_type": "markdown",
   "metadata": {},
   "source": [
    "Change the distance function to compute Manhattan, and see if the prediction changes. Remember to modify the kNN function to pick the smallest distances: do not reverse()!"
   ]
  },
  {
   "cell_type": "code",
   "execution_count": 20,
   "metadata": {},
   "outputs": [
    {
     "name": "stdout",
     "output_type": "stream",
     "text": [
      "Similar Movie List using Manhattan Distance :  {3015, 772, 1965, 519}\n",
      "Similar Movie List using Euclidean Distance :  {3015, 772, 1965, 519}\n",
      "Similar Movie List using Chebyshev Distance :  {1731, 772, 1797, 3142, 3015, 519, 3235, 1965, 2456, 1119}\n"
     ]
    }
   ],
   "source": [
    "## List of Movies a user would like based on his prior movie watching history\n",
    "def getSimilarMoviesFromUser(user,num,metric):\n",
    "    df_temp=pd.pivot_table(data=df,index='userId',values='rating',columns='movieId',aggfunc='sum',fill_value=0)\n",
    "    df_dist=pd.DataFrame(data=pairwise_distances(df_temp.values, metric=metric))\n",
    "    mylist=df_dist[user].sort_values().head(num).index\n",
    "    df_temp2=df_temp.iloc[mylist]\n",
    "    df_temp3=df_temp2.transpose()\n",
    "    df_temp3['movieId']=df_temp3.index\n",
    "    temp4=pd.melt(df_temp3,id_vars='movieId')\n",
    "    temp4=temp4[temp4['value']>4]\n",
    "    movieList=set(list(temp4['movieId']))\n",
    "    return movieList\n",
    "\n",
    "print(\"Similar Movie List using Manhattan Distance : \",getSimilarMoviesFromUser(320,5,'cityblock'))\n",
    "print(\"Similar Movie List using Euclidean Distance : \",getSimilarMoviesFromUser(320,5,'euclidean'))\n",
    "print(\"Similar Movie List using Chebyshev Distance : \",getSimilarMoviesFromUser(320,5,'chebyshev'))\n",
    "\n",
    "\n",
    "\n"
   ]
  },
  {
   "cell_type": "markdown",
   "metadata": {},
   "source": [
    "## Question-4"
   ]
  },
  {
   "cell_type": "markdown",
   "metadata": {},
   "source": [
    "Compare the accuracy with different value of K."
   ]
  },
  {
   "cell_type": "code",
   "execution_count": 21,
   "metadata": {},
   "outputs": [
    {
     "name": "stdout",
     "output_type": "stream",
     "text": [
      "Accuracy of the model for i = 2    0.73\n",
      "Accuracy of the model for i = 7    0.83\n",
      "Accuracy of the model for i = 12    0.8\n",
      "Accuracy of the model for i = 17    0.83\n",
      "Accuracy of the model for i = 22    0.81\n",
      "Accuracy of the model for i = 27    0.83\n"
     ]
    }
   ],
   "source": [
    "for i in range(2,30,5):\n",
    "    neigh = KNeighborsClassifier(n_neighbors=i)\n",
    "    neigh.fit(x_train, y_train)\n",
    "    y_pred=neigh.predict(x_test)\n",
    "#     print(classification_report(y_pred, y_test))\n",
    "    print(\"Accuracy of the model for i =\",i,\"  \",round(neigh.score(x,y),2))"
   ]
  },
  {
   "cell_type": "code",
   "execution_count": null,
   "metadata": {},
   "outputs": [],
   "source": []
  }
 ],
 "metadata": {
  "kernelspec": {
   "display_name": "Python 3",
   "language": "python",
   "name": "python3"
  },
  "language_info": {
   "codemirror_mode": {
    "name": "ipython",
    "version": 3
   },
   "file_extension": ".py",
   "mimetype": "text/x-python",
   "name": "python",
   "nbconvert_exporter": "python",
   "pygments_lexer": "ipython3",
   "version": "3.6.5"
  }
 },
 "nbformat": 4,
 "nbformat_minor": 2
}
