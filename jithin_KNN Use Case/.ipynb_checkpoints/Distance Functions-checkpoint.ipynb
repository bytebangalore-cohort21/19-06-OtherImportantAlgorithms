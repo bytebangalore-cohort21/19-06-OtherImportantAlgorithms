{
 "cells": [
  {
   "cell_type": "code",
   "execution_count": 1,
   "metadata": {},
   "outputs": [],
   "source": [
    "def manhattan_distance(start, end):\n",
    "    return sum(abs(e - s) for s,e in zip(start, end))"
   ]
  },
  {
   "cell_type": "code",
   "execution_count": 4,
   "metadata": {},
   "outputs": [
    {
     "name": "stdout",
     "output_type": "stream",
     "text": [
      "3.503\n"
     ]
    }
   ],
   "source": [
    "from math import *\n",
    "from decimal import Decimal\n",
    "\n",
    "def p_root(value, root):     \n",
    "    root_value = 1 / float(root)\n",
    "    return round (Decimal(value) **Decimal(root_value), 3)\n",
    " \n",
    "def minkowski_distance(x, y, p_value):\n",
    "\n",
    "    return (p_root(sum(pow(abs(a-b), p_value)for a, b in zip(x, y)), p_value))\n",
    " \n",
    "# Driver Code\n",
    "vector1 = [0, 2, 3, 4]\n",
    "vector2 = [2, 4, 3, 7]\n",
    "p=3\n",
    "print(minkowski_distance(vector1, vector2, p))"
   ]
  },
  {
   "cell_type": "code",
   "execution_count": 5,
   "metadata": {},
   "outputs": [],
   "source": [
    "from scipy.spatial import distance    "
   ]
  },
  {
   "cell_type": "code",
   "execution_count": 58,
   "metadata": {},
   "outputs": [
    {
     "data": {
      "text/plain": [
       "20.71231517720798"
      ]
     },
     "execution_count": 58,
     "metadata": {},
     "output_type": "execute_result"
    }
   ],
   "source": [
    "distance.minkowski([2,0,0,-10],[0,5,0,10],2)"
   ]
  },
  {
   "cell_type": "code",
   "execution_count": 51,
   "metadata": {},
   "outputs": [
    {
     "data": {
      "text/plain": [
       "20.71231517720798"
      ]
     },
     "execution_count": 51,
     "metadata": {},
     "output_type": "execute_result"
    }
   ],
   "source": [
    "distance.euclidean([2,0,0,-10],[0,5,0,10])"
   ]
  },
  {
   "cell_type": "code",
   "execution_count": 56,
   "metadata": {},
   "outputs": [
    {
     "data": {
      "text/plain": [
       "27.0"
      ]
     },
     "execution_count": 56,
     "metadata": {},
     "output_type": "execute_result"
    }
   ],
   "source": [
    "distance.minkowski([2,0,0,-10],[0,5,0,10],1)"
   ]
  },
  {
   "cell_type": "code",
   "execution_count": 57,
   "metadata": {},
   "outputs": [
    {
     "data": {
      "text/plain": [
       "27"
      ]
     },
     "execution_count": 57,
     "metadata": {},
     "output_type": "execute_result"
    }
   ],
   "source": [
    "distance.cityblock([2,0,0,-10],[0,5,0,10])"
   ]
  },
  {
   "cell_type": "code",
   "execution_count": null,
   "metadata": {},
   "outputs": [],
   "source": []
  }
 ],
 "metadata": {
  "kernelspec": {
   "display_name": "Python 3",
   "language": "python",
   "name": "python3"
  },
  "language_info": {
   "codemirror_mode": {
    "name": "ipython",
    "version": 3
   },
   "file_extension": ".py",
   "mimetype": "text/x-python",
   "name": "python",
   "nbconvert_exporter": "python",
   "pygments_lexer": "ipython3",
   "version": "3.6.4"
  }
 },
 "nbformat": 4,
 "nbformat_minor": 2
}
